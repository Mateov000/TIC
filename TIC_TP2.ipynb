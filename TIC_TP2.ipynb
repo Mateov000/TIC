{
  "nbformat": 4,
  "nbformat_minor": 0,
  "metadata": {
    "colab": {
      "provenance": [],
      "authorship_tag": "ABX9TyPEnept9lyUeLaUurYtkYYo",
      "include_colab_link": true
    },
    "kernelspec": {
      "name": "python3",
      "display_name": "Python 3"
    },
    "language_info": {
      "name": "python"
    }
  },
  "cells": [
    {
      "cell_type": "markdown",
      "metadata": {
        "id": "view-in-github",
        "colab_type": "text"
      },
      "source": [
        "<a href=\"https://colab.research.google.com/github/Mateov000/TIC/blob/main/TIC_TP2.ipynb\" target=\"_parent\"><img src=\"https://colab.research.google.com/assets/colab-badge.svg\" alt=\"Open In Colab\"/></a>"
      ]
    },
    {
      "cell_type": "markdown",
      "source": [
        "Ejercicio 1"
      ],
      "metadata": {
        "id": "g-AvKKkrODXC"
      }
    },
    {
      "cell_type": "code",
      "execution_count": null,
      "metadata": {
        "colab": {
          "base_uri": "https://localhost:8080/"
        },
        "id": "dpN4cqwDK_3i",
        "outputId": "d078300a-8c33-47e5-b8b9-43e8c245189b"
      },
      "outputs": [
        {
          "output_type": "stream",
          "name": "stdout",
          "text": [
            "0.9709505944546687\n"
          ]
        }
      ],
      "source": [
        "import math\n",
        "probs = [0.6, 0.4]\n",
        "\n",
        "def info(prob):\n",
        "  return math.log2(1/prob)\n",
        "\n",
        "def listaInfo(probs):\n",
        "  return [info(prob) for prob in probs]\n",
        "\n",
        "def entropia(probs):\n",
        "  infos = listaInfo(probs)\n",
        "  resultado = 0\n",
        "  i = 0\n",
        "  for prob in probs:\n",
        "    resultado += prob * infos[i]\n",
        "    i += 1\n",
        "\n",
        "  return resultado\n",
        "\n",
        "print(entropia(probs))\n",
        "\n"
      ]
    },
    {
      "cell_type": "markdown",
      "source": [
        "Ejercicio 2a"
      ],
      "metadata": {
        "id": "LSiBFSozOS03"
      }
    },
    {
      "cell_type": "code",
      "source": [
        "palabra = ['c','a','s','a']\n",
        "palabra1 = \"holaa\"\n",
        "\n",
        "def deducirFuente(palabra):\n",
        "  alfabeto = []\n",
        "  tamanio = 0\n",
        "  encuentros = []\n",
        "\n",
        "  for letra in palabra:\n",
        "    if letra in alfabeto:\n",
        "      indice = alfabeto.index(letra)\n",
        "      encuentros[indice] += 1\n",
        "    else:\n",
        "      alfabeto.append(letra)\n",
        "      encuentros.append(1)\n",
        "\n",
        "  return (alfabeto, encuentros)\n",
        "\n",
        "print(funcion(palabra) + funcion(palabra1))"
      ],
      "metadata": {
        "colab": {
          "base_uri": "https://localhost:8080/"
        },
        "id": "OUp4gM6TOWFo",
        "outputId": "188429ae-0d77-45e4-fddb-72c9481a491b"
      },
      "execution_count": null,
      "outputs": [
        {
          "output_type": "stream",
          "name": "stdout",
          "text": [
            "(['c', 'a', 's'], [1, 2, 1], ['h', 'o', 'l', 'a'], [1, 1, 1, 2])\n"
          ]
        }
      ]
    },
    {
      "cell_type": "markdown",
      "source": [
        "Ejercicio 2b"
      ],
      "metadata": {
        "id": "w0AlH7TUSMwY"
      }
    },
    {
      "cell_type": "code",
      "source": [
        "import random\n",
        "\n",
        "alfabeto = ['a','b','c']\n",
        "probabilidades = [0.15,0.7,0.15]\n",
        "\n",
        "def simularPalabra(alfabeto, probabilidades, largo):\n",
        "  palabra = []\n",
        "  lista_frecuencias = [probabilidades[0]]\n",
        "\n",
        "  i = 1\n",
        "  while i < len(alfabeto):\n",
        "    lista_frecuencias.append(lista_frecuencias[i-1] + probabilidades[i])\n",
        "\n",
        "  for i in range(largo):\n",
        "    aleatorio = random.random()\n",
        "\n",
        "    j = 1\n",
        "    while j < len(alfabeto):\n",
        "      if lista_frecuencias[j-1] < aleatorio and aleatorio < lista_frecuencias[j]:\n",
        "        palabra.append(alfabeto[j])\n",
        "        break\n",
        "      j += 1\n",
        "    else:\n",
        "      palabra.append(alfabeto[0])\n",
        "\n",
        "  return palabra\n",
        "\n",
        "print(simularPalabra(alfabeto, probabilidades, 5))"
      ],
      "metadata": {
        "colab": {
          "base_uri": "https://localhost:8080/"
        },
        "id": "jm7xid6iSOx2",
        "outputId": "31b16135-a642-40a2-ee5b-c7bfde1fbe06"
      },
      "execution_count": null,
      "outputs": [
        {
          "output_type": "stream",
          "name": "stdout",
          "text": [
            "0.824550197075912\n",
            "0.9912735951305298\n",
            "0.7388610046399442\n",
            "0.44951726278318094\n",
            "0.6584537820931766\n",
            "['b', 'c', 'b', 'b', 'b']\n"
          ]
        }
      ]
    },
    {
      "cell_type": "code",
      "source": [
        "import random\n",
        "\n",
        "alfabeto = ['a','b','c']\n",
        "probabilidades = [0.15,0.7,0.15]\n",
        "\n",
        "def simularPalabra(alfabeto, probabilidades, largo):\n",
        "    return random.choices(alfabeto, probabilidades, k=largo)\n",
        "\n",
        "print(simularPalabra(alfabeto, probabilidades, 5))"
      ],
      "metadata": {
        "id": "BI_3BXyaVl6l",
        "colab": {
          "base_uri": "https://localhost:8080/"
        },
        "outputId": "f2d06d3b-2358-4a42-eeb4-f2806a01ee3c"
      },
      "execution_count": null,
      "outputs": [
        {
          "output_type": "stream",
          "name": "stdout",
          "text": [
            "['a', 'a', 'c', 'c', 'c']\n"
          ]
        }
      ]
    },
    {
      "cell_type": "markdown",
      "source": [
        "Ejercicio 3:\n",
        "\n",
        "a. H(S) = 6*(1/6)*log₂(6) = 2.585\n",
        "b. H(S) = 3*1/9*log₂(9) + 2*1/6*log₂(6) + 1/3*log₂(3) = 2.44661..."
      ],
      "metadata": {
        "id": "PUKXskNzdMu9"
      }
    },
    {
      "cell_type": "markdown",
      "source": [
        "Ejercicio 4:\n",
        "Alfabeto        {x, y, z}       {0, 1}      {A, B, C, D}\n",
        "Probabilidades  {0.5, 0.1, 0.4} {0.5, 0.5}  {0.1, 0.3, 0.4, 0.2}\n",
        "\n",
        "a) 1) I(x) = log₂(2) = 1\n",
        "      I(y) = log₂(10) = 3.32192...\n",
        "      I(z) = log₂(2.5) =  1.32192...\n",
        "   2) I(0) = log₂(2) = 1\n",
        "      I(1) = log₂(2) = 1\n",
        "   3) I(A) = log₂(10) = 3.32192...\n",
        "      I(B) = log₂(10/3) = 1.73696...\n",
        "      I(C) = log₂(2.5) = 1.32192...\n",
        "      I(D) = log₂(5) =  2.32192..."
      ],
      "metadata": {
        "id": "fpnhsMmJf3pU"
      }
    },
    {
      "cell_type": "markdown",
      "source": [
        "Ejercicio 5:\n"
      ],
      "metadata": {
        "id": "LLO26a53iLd-"
      }
    },
    {
      "cell_type": "markdown",
      "source": [
        "Ejercicio 8"
      ],
      "metadata": {
        "id": "uHgNWqedcq7M"
      }
    },
    {
      "cell_type": "code",
      "source": [],
      "metadata": {
        "id": "mciQj6xtcvYk"
      },
      "execution_count": null,
      "outputs": []
    }
  ]
}